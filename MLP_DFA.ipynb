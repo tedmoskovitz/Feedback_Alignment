{
 "cells": [
  {
   "cell_type": "markdown",
   "metadata": {},
   "source": [
    "# DFA 3-Layer Network\n",
    "\n",
    "**Ted Moskovitz, September 2017**\n",
    "\n",
    "Backprop with implemenation of direct feedback alignment (See Nokland 2016 in Papers Folder). Trained on MNIST."
   ]
  },
  {
   "cell_type": "code",
   "execution_count": 96,
   "metadata": {
    "collapsed": true
   },
   "outputs": [],
   "source": [
    "import numpy as np\n",
    "import matplotlib.pyplot as plt\n",
    "import scipy.misc as spm\n",
    "import cPickle, gzip\n",
    "\n",
    "%matplotlib inline\n",
    "plt.rcParams['image.cmap'] = 'gray'\n",
    "plt.rcParams['figure.figsize'] = (20.0, 10.0)\n",
    "plt.rcParams['font.size'] = 22"
   ]
  },
  {
   "cell_type": "code",
   "execution_count": 97,
   "metadata": {
    "collapsed": true
   },
   "outputs": [],
   "source": [
    "# Load the dataset\n",
    "f = gzip.open('./Data/mnist.pkl.gz', 'rb')\n",
    "train_set, valid_set, test_set = cPickle.load(f)\n",
    "f.close()"
   ]
  },
  {
   "cell_type": "code",
   "execution_count": 98,
   "metadata": {
    "collapsed": true
   },
   "outputs": [],
   "source": [
    "X_train, y_train = train_set\n",
    "X_val, y_val = valid_set\n",
    "X_test, y_test = test_set"
   ]
  },
  {
   "cell_type": "code",
   "execution_count": 99,
   "metadata": {
    "collapsed": true
   },
   "outputs": [],
   "source": [
    "def convert_one_hot(labels, n_classes=10, th=False):\n",
    "    oh_labels = np.zeros((len(labels), n_classes))\n",
    "    if th:\n",
    "        oh_labels.fill(-1.)\n",
    "    for i in xrange(len(labels)):\n",
    "        oh_labels[i,:][labels[i]] = 1.\n",
    "    return oh_labels                       "
   ]
  },
  {
   "cell_type": "code",
   "execution_count": 100,
   "metadata": {
    "collapsed": true
   },
   "outputs": [],
   "source": [
    "y_train_oh = convert_one_hot(y_train, th=False)\n",
    "y_val_oh = convert_one_hot(y_val, th=False)\n",
    "y_test_oh = convert_one_hot(y_test, th=False)"
   ]
  },
  {
   "cell_type": "code",
   "execution_count": 101,
   "metadata": {},
   "outputs": [
    {
     "name": "stdout",
     "output_type": "stream",
     "text": [
      "(50000,)\n"
     ]
    }
   ],
   "source": [
    "# if no validation\n",
    "#y_train = np.reshape(np.vstack((y_train.reshape(50000,1), y_val.reshape(10000,1))), (60000,))\n",
    "X_train = np.vstack((X_train, X_val))\n",
    "y_train_oh = convert_one_hot(y_train, th=False)\n",
    "print y_train.shape"
   ]
  },
  {
   "cell_type": "code",
   "execution_count": 102,
   "metadata": {
    "collapsed": true
   },
   "outputs": [],
   "source": [
    "num_train = X_train.shape[0]\n",
    "num_val = X_val.shape[0]\n",
    "num_test = X_test.shape[0]"
   ]
  },
  {
   "cell_type": "code",
   "execution_count": 192,
   "metadata": {
    "collapsed": true
   },
   "outputs": [],
   "source": [
    "epsinit = .01\n",
    "eta = .00001\n",
    "decay = .000001\n",
    "\n",
    "n0 = X_train.shape[1]\n",
    "n1 = 50\n",
    "n2 = 50\n",
    "n3 = 10\n",
    "\n",
    "\n",
    "W1 = epsinit * np.random.randn(n1, n0)\n",
    "b1 = epsinit * np.random.randn(n1, 1)\n",
    "\n",
    "W2 = epsinit * np.random.randn(n2, n1)\n",
    "b2 = epsinit * np.random.randn(n2, 1)\n",
    "\n",
    "W3 = epsinit * np.random.randn(n3, n2)\n",
    "b3 = epsinit * np.random.randn(n3, 1)\n",
    "\n",
    "R2 = epsinit * np.random.randn(n2, n3) # constant random matrix shape of W3.T\n",
    "#R1 = epsinit * np.random.randn(n, n2) # constant random matrix shape of W3.T\n",
    "\n",
    "tmax = 200000#0\n",
    "tshow = 5000#0\n",
    "loss = np.zeros((tmax,))\n",
    "avgloss = np.zeros((tmax/tshow,))\n",
    "\n",
    "mvalidate = len(y_val)\n",
    "val_loss = np.zeros((tmax/tshow,))\n",
    "errcl = np.zeros((tmax,))\n",
    "avgerrcl = np.zeros((tmax/tshow,))"
   ]
  },
  {
   "cell_type": "code",
   "execution_count": 193,
   "metadata": {
    "collapsed": true
   },
   "outputs": [],
   "source": [
    "def get_minibatch(inp, targ, size):\n",
    "    i = int(np.random.rand() * (len(targ) - size)) \n",
    "    return inp[i:i+size,:].T, targ[i:i+size]"
   ]
  },
  {
   "cell_type": "code",
   "execution_count": 194,
   "metadata": {
    "collapsed": true
   },
   "outputs": [],
   "source": [
    "def f(x):\n",
    "    return 1. / (1. + np.exp(-x))\n",
    "def df(y):\n",
    "    return np.multiply(y, 1.-y)"
   ]
  },
  {
   "cell_type": "code",
   "execution_count": 195,
   "metadata": {
    "collapsed": true
   },
   "outputs": [],
   "source": [
    "def tanh(a):              # tanh activation function \n",
    "    return np.tanh(a) \n",
    "def dtanh(b):             # derivative of tanh\n",
    "    return 1 - (b**2)"
   ]
  },
  {
   "cell_type": "code",
   "execution_count": 196,
   "metadata": {
    "collapsed": true
   },
   "outputs": [],
   "source": [
    "def soft(x):\n",
    "    return np.log(1. + np.exp(x))\n",
    "def dsoft(x): # unlike other deriv fns here, is wrt preactivation (u) not activation (x) \n",
    "    return f(x)"
   ]
  },
  {
   "cell_type": "code",
   "execution_count": 197,
   "metadata": {
    "collapsed": true
   },
   "outputs": [],
   "source": [
    "def spec_soft(x):\n",
    "    a = 10.\n",
    "    return (1./a)*np.log(1.+np.exp(a*x))\n",
    "def dspec_soft(x):\n",
    "    a = 10.\n",
    "    return f(a*x)"
   ]
  },
  {
   "cell_type": "code",
   "execution_count": 198,
   "metadata": {
    "collapsed": true
   },
   "outputs": [],
   "source": [
    "def sq_loss(y, yhat, n):\n",
    "    return sum(sum(np.power((y-yhat), 2))) / n"
   ]
  },
  {
   "cell_type": "code",
   "execution_count": 199,
   "metadata": {
    "collapsed": true
   },
   "outputs": [],
   "source": [
    "def poiss_loss(y, yhat, n):\n",
    "    return np.mean(yhat - y * np.log(yhat + 1e-7) + np.log(spm.factorial(y)), axis=-1)"
   ]
  },
  {
   "cell_type": "code",
   "execution_count": 200,
   "metadata": {
    "collapsed": true
   },
   "outputs": [],
   "source": [
    "def cross_entropy_loss(y, yhat, n):\n",
    "    return -np.mean(np.mean(y*np.log(yhat+1e-7) + (1.-y)*np.log(1.-yhat+1e-7), axis=0))"
   ]
  },
  {
   "cell_type": "code",
   "execution_count": 201,
   "metadata": {
    "collapsed": true
   },
   "outputs": [],
   "source": [
    "def neglogli(preds, actual):\n",
    "    preds = np.reshape(preds, (-1,))\n",
    "    nll = np.sum((preds - actual*np.log(preds + 1e-07) + np.log(spm.factorial(actual))))\n",
    "    return nll"
   ]
  },
  {
   "cell_type": "code",
   "execution_count": 202,
   "metadata": {
    "collapsed": true
   },
   "outputs": [],
   "source": [
    "def predict(x0, wts, bs):\n",
    "    W1, W2, W3 = wts\n",
    "    b1, b2, b3 = bs\n",
    "    \n",
    "    sz = x0.shape[1]\n",
    "    B1 = np.repeat(b1, sz).reshape([n1, sz])\n",
    "    B2 = np.repeat(b2, sz).reshape([n2, sz])\n",
    "    B3 = np.repeat(b3, sz).reshape([n3, sz])\n",
    "    \n",
    "    h1 = f(np.dot(W1,x0) + B1)\n",
    "    h2 = f(np.dot(W2,h1) + B2)\n",
    "    preds = f(np.dot(W3,h2) + B3)\n",
    "    \n",
    "    return preds"
   ]
  },
  {
   "cell_type": "code",
   "execution_count": 203,
   "metadata": {
    "scrolled": true
   },
   "outputs": [
    {
     "name": "stderr",
     "output_type": "stream",
     "text": [
      "/Users/TedMoskovitz/anaconda/lib/python2.7/site-packages/ipykernel/__main__.py:2: RuntimeWarning: overflow encountered in exp\n",
      "  from ipykernel import kernelapp as app\n"
     ]
    },
    {
     "name": "stdout",
     "output_type": "stream",
     "text": [
      "Epoch 1 of 39:\n",
      "Avg. Train Loss: 0.833914718876\n",
      "Avg. Class Error: 0.2594375\n",
      " \n",
      "Epoch 2 of 39:\n",
      "Avg. Train Loss: 0.630850808271\n",
      "Avg. Class Error: 0.1944875\n",
      " \n",
      "Epoch 3 of 39:\n",
      "Avg. Train Loss: 0.540450936717\n",
      "Avg. Class Error: 0.165841666667\n",
      " \n",
      "Epoch 4 of 39:\n",
      "Avg. Train Loss: 0.487652776006\n",
      "Avg. Class Error: 0.148903125\n",
      " \n",
      "Epoch 5 of 39:\n",
      "Avg. Train Loss: 0.45175362319\n",
      "Avg. Class Error: 0.137465\n",
      " \n",
      "Epoch 6 of 39:\n",
      "Avg. Train Loss: 0.424143423179\n",
      "Avg. Class Error: 0.128658333333\n",
      " \n",
      "Epoch 7 of 39:\n",
      "Avg. Train Loss: 0.401856819533\n",
      "Avg. Class Error: 0.1215875\n",
      " \n",
      "Epoch 8 of 39:\n",
      "Avg. Train Loss: 0.384640910819\n",
      "Avg. Class Error: 0.116090625\n",
      " \n",
      "Epoch 9 of 39:\n",
      "Avg. Train Loss: 0.369185154385\n",
      "Avg. Class Error: 0.1113\n",
      " \n",
      "Epoch 10 of 39:\n",
      "Avg. Train Loss: 0.356341849568\n",
      "Avg. Class Error: 0.1072475\n",
      " \n",
      "Epoch 11 of 39:\n",
      "Avg. Train Loss: 0.345093662497\n",
      "Avg. Class Error: 0.103672727273\n",
      " \n",
      "Epoch 12 of 39:\n",
      "Avg. Train Loss: 0.334368619331\n",
      "Avg. Class Error: 0.100308333333\n",
      " \n",
      "Epoch 13 of 39:\n",
      "Avg. Train Loss: 0.324877002804\n",
      "Avg. Class Error: 0.0973673076923\n",
      " \n",
      "Epoch 14 of 39:\n",
      "Avg. Train Loss: 0.316757873024\n",
      "Avg. Class Error: 0.0948446428571\n",
      " \n",
      "Epoch 15 of 39:\n",
      "Avg. Train Loss: 0.309042122804\n",
      "Avg. Class Error: 0.092415\n",
      " \n",
      "Epoch 16 of 39:\n",
      "Avg. Train Loss: 0.301402983521\n",
      "Avg. Class Error: 0.09005\n",
      " \n",
      "Epoch 17 of 39:\n",
      "Avg. Train Loss: 0.294662449408\n",
      "Avg. Class Error: 0.0879735294118\n",
      " \n",
      "Epoch 18 of 39:\n",
      "Avg. Train Loss: 0.288226904179\n",
      "Avg. Class Error: 0.0860090277778\n",
      " \n",
      "Epoch 19 of 39:\n",
      "Avg. Train Loss: 0.282229975635\n",
      "Avg. Class Error: 0.0841401315789\n",
      " \n",
      "Epoch 20 of 39:\n",
      "Avg. Train Loss: 0.276703955246\n",
      "Avg. Class Error: 0.082430625\n",
      " \n",
      "Epoch 21 of 39:\n",
      "Avg. Train Loss: 0.271723403429\n",
      "Avg. Class Error: 0.0808851190476\n",
      " \n",
      "Epoch 22 of 39:\n",
      "Avg. Train Loss: 0.266865192299\n",
      "Avg. Class Error: 0.0793630681818\n",
      " \n",
      "Epoch 23 of 39:\n",
      "Avg. Train Loss: 0.262448192352\n",
      "Avg. Class Error: 0.077989673913\n",
      " \n",
      "Epoch 24 of 39:\n",
      "Avg. Train Loss: 0.258079059158\n",
      "Avg. Class Error: 0.0766447916667\n",
      " \n",
      "Epoch 25 of 39:\n",
      "Avg. Train Loss: 0.253882841528\n",
      "Avg. Class Error: 0.075374\n",
      " \n",
      "Epoch 26 of 39:\n",
      "Avg. Train Loss: 0.249848269425\n",
      "Avg. Class Error: 0.0741509615385\n",
      " \n",
      "Epoch 27 of 39:\n",
      "Avg. Train Loss: 0.245907631148\n",
      "Avg. Class Error: 0.0729527777778\n",
      " \n",
      "Epoch 28 of 39:\n",
      "Avg. Train Loss: 0.242109751254\n",
      "Avg. Class Error: 0.0717834821429\n",
      " \n",
      "Epoch 29 of 39:\n",
      "Avg. Train Loss: 0.238467763866\n",
      "Avg. Class Error: 0.0706676724138\n",
      " \n",
      "Epoch 30 of 39:\n",
      "Avg. Train Loss: 0.235036201875\n",
      "Avg. Class Error: 0.0696279166667\n",
      " \n",
      "Epoch 31 of 39:\n",
      "Avg. Train Loss: 0.231525193338\n",
      "Avg. Class Error: 0.0685713709677\n",
      " \n",
      "Epoch 32 of 39:\n",
      "Avg. Train Loss: 0.22816617784\n",
      "Avg. Class Error: 0.067519921875\n",
      " \n",
      "Epoch 33 of 39:\n",
      "Avg. Train Loss: 0.224874574206\n",
      "Avg. Class Error: 0.0665007575758\n",
      " \n",
      "Epoch 34 of 39:\n",
      "Avg. Train Loss: 0.221766763271\n",
      "Avg. Class Error: 0.065525\n",
      " \n",
      "Epoch 35 of 39:\n",
      "Avg. Train Loss: 0.218686953631\n",
      "Avg. Class Error: 0.0645767857143\n",
      " \n",
      "Epoch 36 of 39:\n",
      "Avg. Train Loss: 0.215780165782\n",
      "Avg. Class Error: 0.0636746527778\n",
      " \n",
      "Epoch 37 of 39:\n",
      "Avg. Train Loss: 0.212890511628\n",
      "Avg. Class Error: 0.0627766891892\n",
      " \n",
      "Epoch 38 of 39:\n",
      "Avg. Train Loss: 0.210248837626\n",
      "Avg. Class Error: 0.0619615131579\n",
      " \n",
      "Epoch 39 of 39:\n",
      "Avg. Train Loss: 0.207597021905\n",
      "Avg. Class Error: 0.0611365384615\n",
      " \n"
     ]
    }
   ],
   "source": [
    "bsize = 16\n",
    "predicted = np.zeros((tmax/tshow,bsize))\n",
    "ys = np.zeros((tmax/tshow, bsize))\n",
    "for t in xrange(tmax):\n",
    "    x0, y = get_minibatch(X_train, y_train_oh, bsize)\n",
    "    y = y.T\n",
    "    \n",
    "    B1 = np.repeat(b1, bsize).reshape([n1, bsize])\n",
    "    B2 = np.repeat(b2, bsize).reshape([n2, bsize])\n",
    "    B3 = np.repeat(b3, bsize).reshape([n3, bsize])\n",
    "    \n",
    "    # forward pass\n",
    "    u1 = np.dot(W1,x0)+B1\n",
    "    x1 = f(u1)\n",
    "    u2 = np.dot(W2,x1)+B2\n",
    "    x2 = f(u2)\n",
    "    u3 = np.dot(W3,x2)+B3\n",
    "    x3 = f(u3)\n",
    "\n",
    "    #loss[t] = sq_loss(y, x2, bsize)\n",
    "    loss[t] = cross_entropy_loss(y, x3, bsize)\n",
    "    \n",
    "    errcl[t] = float(np.sum(np.argmax(x3,axis=0) != np.argmax(y,axis=0)))/bsize\n",
    "    \n",
    "    # backward pass\n",
    "    #delta3 = (y - x2) * df(x2) # sq loss\n",
    "    #delta3 = -np.multiply((1. - np.divide(y, x2+1e-7)), df(x2)) # poiss loss\n",
    "    #delta3 = -np.multiply(np.divide(y,x3+1e-7) + np.divide(1.-y, 1.-x3+1e-7), df(x3)) # cross entropy loss\n",
    "    delta3 = -np.divide((x3 - y), np.multiply(y, 1.-y)+1e-7)\n",
    "    \n",
    "    fast_back = np.dot(R2, delta3)\n",
    "\n",
    "    delta2 = np.multiply(fast_back, df(x2))\n",
    "    \n",
    "    delta1 = np.multiply(fast_back, df(x1)) # DFA\n",
    "    '''\n",
    "    if (float(t)/tmax) == .75:\n",
    "        print 'Learning Rate Annealed'\n",
    "        eta /= 5.\n",
    "    '''   \n",
    "    W3 += eta / bsize * np.dot(delta3, x2.T)\n",
    "    W2 += eta / bsize * np.dot(delta2, x1.T)\n",
    "    W1 += eta / bsize * np.dot(delta1, x0.T)\n",
    "    \n",
    "    b3 += eta / bsize * np.sum(delta3, axis=1).reshape(n3, 1)\n",
    "    b2 += eta / bsize * np.sum(delta2, axis=1).reshape(n2, 1)\n",
    "    b1 += eta / bsize * np.sum(delta1, axis=1).reshape(n1, 1)\n",
    "    \n",
    "    eta *= (1.-decay) \n",
    "    \n",
    "    if t % tshow == 0 and t > 0:\n",
    "        print 'Epoch ' + str(t/tshow) + ' of ' + str(tmax/tshow-1) + ':'\n",
    "    \n",
    "        avgloss[t/tshow-1] = np.sum(loss[:t]) / float(t+1)\n",
    "        avgerrcl[t/tshow-1] = np.sum(errcl[:t]) / float(t)\n",
    "        #predicted[t/tshow-1,:] = x2\n",
    "        #ys[t/tshow-1,:] = y\n",
    "        print \"Avg. Train Loss: \" + str(avgloss[t/tshow-1])\n",
    "        print 'Avg. Class Error: ' + str(avgerrcl[t/tshow-1])\n",
    "        \n",
    "        '''\n",
    "        # validation loss\n",
    "        x0 = X_val.T\n",
    "        \n",
    "        B1 = np.repeat(b1, mvalidate).reshape([n1, mvalidate])\n",
    "        B2 = np.repeat(b2, mvalidate).reshape([n2, mvalidate])\n",
    "        x1 = f(np.dot(W1,x0)+B1)\n",
    "        x2 = f(np.dot(W2,x1)+B2)\n",
    "        \n",
    "        #val_loss[t/tshow-1] = sq_loss(y_val.T, x2, mvalidate)\n",
    "        val_loss[t/tshow-1] = sq_loss(y_val_oh.T, x2, mvalidate)\n",
    "        \n",
    "        print \"Validation Loss: \" + str(val_loss[t/tshow-1])\n",
    "        '''\n",
    "        print ' '\n",
    "        \n",
    "        "
   ]
  },
  {
   "cell_type": "code",
   "execution_count": null,
   "metadata": {
    "collapsed": true
   },
   "outputs": [],
   "source": [
    "w1 = np.mean(W1, axis=0)\n",
    "print w1.shape\n",
    "plt.plot(w1)\n",
    "plt.show()"
   ]
  },
  {
   "cell_type": "code",
   "execution_count": null,
   "metadata": {
    "collapsed": true
   },
   "outputs": [],
   "source": [
    "for i in xrange(n1):\n",
    "    plt.plot(W1[i,:])\n",
    "    plt.show()"
   ]
  },
  {
   "cell_type": "code",
   "execution_count": null,
   "metadata": {
    "collapsed": true
   },
   "outputs": [],
   "source": [
    "plt.plot(ys[0,:], label='target')\n",
    "plt.plot(predicted[0,:], label='prediction')\n",
    "plt.legend()\n",
    "plt.xlabel('Bins')\n",
    "plt.ylabel('Spikes')\n",
    "plt.title('Initial')\n",
    "plt.show()"
   ]
  },
  {
   "cell_type": "code",
   "execution_count": null,
   "metadata": {
    "collapsed": true
   },
   "outputs": [],
   "source": [
    "plt.plot(ys[-2,:], label='target')\n",
    "plt.plot(predicted[-2,:], label='prediction')\n",
    "plt.legend()\n",
    "plt.xlabel('Bins')\n",
    "plt.ylabel('Spikes')\n",
    "plt.title('Final')\n",
    "plt.show()"
   ]
  },
  {
   "cell_type": "code",
   "execution_count": 189,
   "metadata": {},
   "outputs": [
    {
     "data": {
      "image/png": "[encoded data removed]",
      "text/plain": [
       "<matplotlib.figure.Figure at 0x10e3e6710>"
      ]
     },
     "metadata": {},
     "output_type": "display_data"
    },
    {
     "data": {
      "image/png": "[encoded data removed]",
      "text/plain": [
       "<matplotlib.figure.Figure at 0x109ff0810>"
      ]
     },
     "metadata": {},
     "output_type": "display_data"
    }
   ],
   "source": [
    "plt.plot(avgloss[:-1], label='train loss')\n",
    "#plt.plot(val_loss[:-1], label='validation loss')\n",
    "plt.legend()\n",
    "plt.show()\n",
    "\n",
    "plt.plot(avgerrcl[:-1], label='Class Error')\n",
    "np.savetxt('./Results/MLP_DFA_784_50_50_10_classerr.csv', avgerrcl[:-1], delimiter=',')\n",
    "plt.legend()\n",
    "plt.show()"
   ]
  },
  {
   "cell_type": "code",
   "execution_count": null,
   "metadata": {
    "collapsed": true
   },
   "outputs": [],
   "source": [
    "print W1.shape\n",
    "print W2.shape\n",
    "print b1.shape\n",
    "print b2.shape"
   ]
  },
  {
   "cell_type": "code",
   "execution_count": 204,
   "metadata": {},
   "outputs": [
    {
     "name": "stdout",
     "output_type": "stream",
     "text": [
      "(10, 10000)\n",
      "0.196216985099\n",
      "0.0626\n"
     ]
    },
    {
     "name": "stderr",
     "output_type": "stream",
     "text": [
      "/Users/TedMoskovitz/anaconda/lib/python2.7/site-packages/ipykernel/__main__.py:2: RuntimeWarning: overflow encountered in exp\n",
      "  from ipykernel import kernelapp as app\n"
     ]
    }
   ],
   "source": [
    "wts = (W1, W2, W3)\n",
    "bs = (b1, b2, b3)\n",
    "preds = predict(X_test.T, wts, bs)\n",
    "print preds.shape\n",
    "\n",
    "print cross_entropy_loss(y_test_oh.T, preds, num_test)\n",
    "\n",
    "print float(np.sum(np.argmax(preds,axis=0) != np.argmax(y_test_oh.T, axis=0))) / num_test"
   ]
  },
  {
   "cell_type": "code",
   "execution_count": null,
   "metadata": {
    "collapsed": true
   },
   "outputs": [],
   "source": [
    "r = int(np.random.rand() * len(y_test)) \n",
    "if r > 1000:\n",
    "    r = r - 20\n",
    "plt.plot(y_test[r:r+20], label='target')\n",
    "plt.plot(predict(X_test[r:r+20,:].T, wts, bs).T, label='prediction')\n",
    "plt.legend()\n",
    "plt.xlabel('Bins')\n",
    "plt.ylabel('Spikes')\n",
    "plt.title('Test Points')\n",
    "plt.show()"
   ]
  },
  {
   "cell_type": "code",
   "execution_count": null,
   "metadata": {
    "collapsed": true
   },
   "outputs": [],
   "source": [
    "B1 = np.repeat(b1, num_train).reshape([n1, num_train])\n",
    "B2 = np.repeat(b2, num_train).reshape([n2, num_train])\n",
    "filt_output0 = np.dot(W2, f(np.dot(W1, X_train.T) + B1)) + B2\n",
    "#filt_output0 = np.dot(W1, X_train.T) + B1\n",
    "print filt_output0.shape"
   ]
  },
  {
   "cell_type": "code",
   "execution_count": null,
   "metadata": {
    "collapsed": true
   },
   "outputs": [],
   "source": [
    "h1, bin_edges = np.histogram(filt_output0[0,:], bins=20)\n",
    "plt.hist(filt_output0[0,:], bins=20)\n",
    "plt.show()"
   ]
  },
  {
   "cell_type": "code",
   "execution_count": null,
   "metadata": {
    "collapsed": true
   },
   "outputs": [],
   "source": [
    "train_preds = predict(X_train.T, wts, bs)\n",
    "train_preds = train_preds.T\n",
    "print train_preds.shape"
   ]
  },
  {
   "cell_type": "code",
   "execution_count": null,
   "metadata": {
    "collapsed": true
   },
   "outputs": [],
   "source": []
  }
 ],
 "metadata": {
  "kernelspec": {
   "display_name": "Python 2",
   "language": "python",
   "name": "python2"
  },
  "language_info": {
   "codemirror_mode": {
    "name": "ipython",
    "version": 2
   },
   "file_extension": ".py",
   "mimetype": "text/x-python",
   "name": "python",
   "nbconvert_exporter": "python",
   "pygments_lexer": "ipython2",
   "version": "2.7.13"
  }
 },
 "nbformat": 4,
 "nbformat_minor": 1
}
