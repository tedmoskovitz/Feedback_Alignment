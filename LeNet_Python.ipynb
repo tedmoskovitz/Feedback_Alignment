{
 "cells": [
  {
   "cell_type": "markdown",
   "metadata": {},
   "source": [
    "### Roughly patterned after LeNet-5\n",
    "max instead of average pooling"
   ]
  },
  {
   "cell_type": "code",
   "execution_count": 23,
   "metadata": {
    "collapsed": true
   },
   "outputs": [],
   "source": [
    "import scipy.signal\n",
    "import numpy as np\n",
    "import matplotlib.pyplot as plt\n",
    "from sklearn.datasets import fetch_mldata\n",
    "import time\n",
    "import cPickle, gzip\n",
    "from IPython import display"
   ]
  },
  {
   "cell_type": "code",
   "execution_count": 2,
   "metadata": {
    "collapsed": true
   },
   "outputs": [],
   "source": [
    "# grayscale and inline plotting\n",
    "%matplotlib inline\n",
    "plt.rcParams['image.cmap'] = 'gray'"
   ]
  },
  {
   "cell_type": "code",
   "execution_count": 3,
   "metadata": {
    "collapsed": true
   },
   "outputs": [],
   "source": [
    "# using scipy's 2d convolution function\n",
    "conv2 = scipy.signal.convolve2d # modes include \"full\", \"valid\", and \"same\""
   ]
  },
  {
   "cell_type": "code",
   "execution_count": 90,
   "metadata": {
    "collapsed": true
   },
   "outputs": [],
   "source": [
    "# visualization functions\n",
    "\n",
    "def plot_image(image):\n",
    "    nr, nc = image.shape \n",
    "    extent = [-0.5, nc-0.5, nr-0.5, -0.5] \n",
    "    plt.imshow(image, extent=extent, origin='upper', interpolation='nearest')\n",
    "    \n",
    "def visualize(iter, errsq, errcl, x5, x4, x3, x0, w1):\n",
    "\n",
    "    errsq = np.divide(\n",
    "        np.cumsum(errsq[: iter + 1]),\n",
    "        range(1, iter + 2)\n",
    "    )\n",
    "    \n",
    "    #print 'Avg Class Error: ' + str(np.mean(errcl))\n",
    "    \n",
    "    errcl = np.divide(\n",
    "        np.cumsum(errcl[: iter + 1]),\n",
    "        range(1, iter + 2)\n",
    "    )\n",
    "    \n",
    "    display.clear_output(wait=True)\n",
    "\n",
    "    plt.subplot(4,3,1)\n",
    "    plt.plot(errcl[-2000:])\n",
    "    plt.ylim(min(errcl[-2000:])-.01, max(errcl[-2000:])+.01)\n",
    "    plt.title(\"recent class error\")\n",
    "    \n",
    "    plt.subplot(4,3,2)\n",
    "    plt.plot(errcl)\n",
    "    plt.ylim(0,1)\n",
    "    plt.title(\"average classification error\")\n",
    "    \n",
    "    plt.subplot(4,3,3)\n",
    "    plt.bar(range(len(x5)),x5)\n",
    "    plt.title(\"class confidences\")\n",
    "    \n",
    "    plt.subplot(4,3,4)\n",
    "    plt.hist(x4)\n",
    "    plt.title(\"x4 activations\")\n",
    "    \n",
    "    plt.subplot(4,3,5)\n",
    "    plt.hist(x3)\n",
    "    plt.title(\"x3 activations\")\n",
    "    \n",
    "    plt.subplot(4,3,6)\n",
    "    plot_image(x0)\n",
    "    plt.title(\"input image\")\n",
    "    \n",
    "    for i in range(w1.shape[0]):\n",
    "        plt.subplot(4,3,7+i)\n",
    "        plot_image(w1[i])\n",
    "        plt.title(\"w1 kernel channel \" + str(i))\n",
    "\n",
    "    plt.subplots_adjust(wspace=0.5)\n",
    "    plt.gcf().set_size_inches(18.5, 10.5)\n",
    "    display.display(plt.gcf())\n",
    "    \n",
    "    return errcl[-1]"
   ]
  },
  {
   "cell_type": "code",
   "execution_count": 5,
   "metadata": {
    "collapsed": true
   },
   "outputs": [],
   "source": [
    "def maxpool(images):\n",
    "    # 2x2 max pooling for set of images\n",
    "    # returns MAXIMA, WINNERS\n",
    "    # MAXIMA 2x smaller image, maximum of each 2x2 patch\n",
    "    # WINNERS 2x smaller image, argmax (1..4) of each 2x2 patch\n",
    "\n",
    "    [k, m, n] = images.shape  # mxn images, k of them\n",
    "    # reshape to k x 2 x m/2 x 2 x n/2\n",
    "    im_re = np.reshape(images, (k, m/2, 2, n/2, 2))\n",
    "    maxima = np.amax(np.amax(im_re, 4), 2)\n",
    "    \n",
    "    # obtain \"flat\" indices for each element\n",
    "    inds = np.reshape(np.array(range(im_re.size)), im_re.shape)\n",
    "    \n",
    "    # run two-step argmax to determine winning indices\n",
    "    curr_inds = np.argmax(im_re, 4)\n",
    "    dim0, dim1, dim2, dim3 = np.indices(curr_inds.shape)\n",
    "    inds = inds[dim0, dim1, dim2, dim3, curr_inds]\n",
    "    im_re = np.amax(im_re, 4)\n",
    "    curr_inds = np.argmax(im_re, 2)\n",
    "    dim0, dim1, dim3 = np.indices(curr_inds.shape)\n",
    "    winners = inds[dim0, dim1, curr_inds, dim3]\n",
    "    return maxima, winners\n",
    "\n",
    "def maxpoolback(delta_out, winners):\n",
    "    # backprop through 2x2 max pooling\n",
    "    #\n",
    "    # DELTA_IN image, deltas\n",
    "    # DELTA_OUT 2x smaller image, deltas\n",
    "    # WINNERS 2x smaller image, argmax (1..4) of each 2x2 patch\n",
    "\n",
    "    [k, m, n] = delta_out.shape;  # mxn images, k of them\n",
    "    delta_in = np.zeros((k,2*m,2*n))\n",
    "\n",
    "    delta_in.flat[winners] = delta_out\n",
    "    return delta_in"
   ]
  },
  {
   "cell_type": "code",
   "execution_count": 6,
   "metadata": {
    "collapsed": true
   },
   "outputs": [],
   "source": [
    "def cross_entropy_loss(y, yhat, n):\n",
    "    return -np.mean(np.mean(y*np.log(yhat+1e-7) + (1.-y)*np.log(1.-yhat+1e-7), axis=0))"
   ]
  },
  {
   "cell_type": "code",
   "execution_count": 7,
   "metadata": {
    "collapsed": true
   },
   "outputs": [],
   "source": [
    "def softmax(x):\n",
    "    \"\"\"Compute softmax values for each sets of scores in x.\"\"\"\n",
    "    probs = np.exp(x - np.max(x))\n",
    "    probs /= np.sum(probs) + 1e-8\n",
    "    return probs"
   ]
  },
  {
   "cell_type": "code",
   "execution_count": 8,
   "metadata": {},
   "outputs": [
    {
     "name": "stdout",
     "output_type": "stream",
     "text": [
      "Data shape is:  (70000, 784)\n",
      "Target shape is:  (70000,)\n"
     ]
    }
   ],
   "source": [
    "# download MNIST data or load it if previously downloaded\n",
    "mnist = fetch_mldata('MNIST original', data_home=\"Data\")\n",
    "\n",
    "# check shape - mnist.data contains train and test\n",
    "print \"Data shape is: \", mnist.data.shape\n",
    "print \"Target shape is: \", mnist.target.shape"
   ]
  },
  {
   "cell_type": "code",
   "execution_count": 24,
   "metadata": {
    "collapsed": true
   },
   "outputs": [],
   "source": [
    "# The dataset is ordered (starting with examples labeled '0', ending with examples labeled '9'). \n",
    "# To generate train examples, use 60,000 random indices into the dataset.\n",
    "\n",
    "shuffled_indices = np.random.permutation(np.arange(mnist.data.shape[0]))\n",
    "train_indices = shuffled_indices[:60000]\n",
    "\n",
    "train = mnist.data[train_indices, :]\n",
    "trainlabels = np.int_(mnist.target[train_indices])\n",
    "\n",
    "train = np.reshape(train, (train.shape[0], 28, 28))/255.0\n",
    "\n",
    "# test data\n",
    "test_indices = shuffled_indices[60000:]\n",
    "test = mnist.data[test_indices, :]\n",
    "testlabels = np.int_(mnist.target[test_indices])\n",
    "test = np.reshape(test, (test.shape[0], 28, 28))/255.0"
   ]
  },
  {
   "cell_type": "code",
   "execution_count": 25,
   "metadata": {
    "collapsed": true
   },
   "outputs": [],
   "source": [
    "def predict(params, x):\n",
    "    w1, w2, W3, W4, W5 = params\n",
    "    n1 = w1.shape[0]\n",
    "    n2 = w2.shape[0]\n",
    "    n3, n4, n5 = W3.shape[0], W4.shape[0], W5.shape[0]\n",
    "    \n",
    "    x0 = np.zeros((32, 32))     # input image\n",
    "    x1 = np.zeros((n1, 28, 28))   # valid convolution by w1 reduces image size by 4\n",
    "    x1p = np.zeros((n1, 14, 14))  # pooling reduces image size by 2x\n",
    "    x2 = np.zeros((n2, 10, 10))   # convolution by w2 reduces image size by 4\n",
    "    x2p = np.zeros((n2, 5, 5))    # pooling reduces image size by 2x\n",
    "    \n",
    "    # forward pass \n",
    "    x0 = np.zeros((32,32))\n",
    "    x0[np.ix_(range(2,30),range(2,30))] = x #test[iter]\n",
    "\n",
    "    for i in range(n1):\n",
    "        x1[i,:,:] = conv2(x0, w1[i,:,:], \"valid\")\n",
    "    x1 = f(x1)\n",
    "    x1p, x1w = maxpool(x1)\n",
    "\n",
    "    x2 = np.zeros(x2.shape)  # initialize to zero for accumulation\n",
    "    for i in range(n2):\n",
    "        for j in range(n1):\n",
    "            x2[i,:,:] += conv2(x1p[j,:,:], w2[i,j,:,:], \"valid\")\n",
    "    x2 = f(x2)\n",
    "    x2p, x2w = maxpool(x2)\n",
    "\n",
    "    # discard 2D organization of x2p by reshaping to x2p(:)\n",
    "    x3 = f(np.dot(W3,np.reshape(x2p,-1)))\n",
    "    x4 = f(np.dot(W4,x3))\n",
    "    x5 = softmax(np.dot(W5,x4))\n",
    "    prediction = np.argmax(x5);\n",
    "    return prediction"
   ]
  },
  {
   "cell_type": "code",
   "execution_count": 26,
   "metadata": {
    "collapsed": true
   },
   "outputs": [],
   "source": [
    "def get_acc(y, yhat):\n",
    "    n = float(len(y))\n",
    "    return len(np.where(y == yhat)[0]) / n"
   ]
  },
  {
   "cell_type": "code",
   "execution_count": 27,
   "metadata": {
    "collapsed": true
   },
   "outputs": [],
   "source": [
    "def get_minibatch(inp, targ, size):\n",
    "    i = int(np.random.rand() * (len(targ) - size)) \n",
    "    return inp[i:i+size,:].T, targ[i:i+size]"
   ]
  },
  {
   "cell_type": "code",
   "execution_count": 93,
   "metadata": {
    "collapsed": true
   },
   "outputs": [],
   "source": [
    "# training and architectural details\n",
    "\n",
    "niter = train.shape[0];  # number of training examples\n",
    "nepoch = 10;  # number of epochs through training set\n",
    "\n",
    "def f(x): # hyperbolic tangent activation function\n",
    "    return np.tanh(x)\n",
    "def df(y): # derivative of f composed with inverse of f\n",
    "    return 1 - np.multiply(y, y)\n",
    "\n",
    "def relu(x):\n",
    "    return np.maximum(x, 0.)\n",
    "def drelu(y):\n",
    "    return 1. * (y > 0.)\n",
    "\n",
    "epsinit = 0.1;   # scale of weight initialization\n",
    "eta = 0.01;  # learning rate parameter .001 for reg\n",
    "#decay_rate = .0000001\n",
    "\n",
    "# initialize two convolution layers \n",
    "n1 = 6; n2 = 16; #16;   # numbers of feature maps\n",
    "w1 = epsinit*np.random.randn(n1,5,5)  # n1 kernels\n",
    "b1 = np.zeros(n1)\n",
    "w2 = epsinit*np.random.randn(n2,n1,5,5)  # n2 x n1 kernels\n",
    "\n",
    "B2 = epsinit*np.random.randn(n2,n1,5,5) # for backwards pass\n",
    "\n",
    "b2 = np.zeros(n2)\n",
    "\n",
    "x0 = np.zeros((32, 32))     # input image\n",
    "x1 = np.zeros((n1, 28, 28))   # valid convolution by w1 reduces image size by 4\n",
    "x1p = np.zeros((n1, 14, 14))  # pooling reduces image size by 2x\n",
    "x2 = np.zeros((n2, 10, 10))   # convolution by w2 reduces image size by 4\n",
    "x2p = np.zeros((n2, 5, 5))    # pooling reduces image size by 2x\n",
    "\n",
    "# initialize three fully connected layers\n",
    "n3 = 300; n4 = 300; n5 = 10              # number of neurons per layer\n",
    "\n",
    "# DFA\n",
    "B_fc = epsinit*np.random.randn(n4,n5)\n",
    "B_c = epsinit*np.random.randn(x2p.size, n3)\n",
    "#B2 = \n",
    "\n",
    "W3 = epsinit*np.random.randn(n3,x2p.size)   # 2D organization of x2p is discarded\n",
    "b3 = np.zeros(n3)\n",
    "W4 = epsinit*np.random.randn(n4,n3)\n",
    "b4 = np.zeros(n4)\n",
    "W5 = epsinit*np.random.randn(n5,n4)\n",
    "b5 = np.zeros(n5)"
   ]
  },
  {
   "cell_type": "code",
   "execution_count": null,
   "metadata": {},
   "outputs": [
    {
     "data": {
      "image/png": "[encoded data removed]",
      "text/plain": [
       "<matplotlib.figure.Figure at 0x1c26641990>"
      ]
     },
     "metadata": {},
     "output_type": "display_data"
    },
    {
     "name": "stdout",
     "output_type": "stream",
     "text": [
      "error rate: 0.0338333333333\n",
      "learning rate: 0.00032\n",
      "135.52291894 seconds per 6000 iterations\n",
      "Epoch 3 of 5\n"
     ]
    }
   ],
   "source": [
    "# training\n",
    "times = []\n",
    "tic = time.time()\n",
    "disp_freq = 6000 #1500\n",
    "nepoch = 5\n",
    "eta = .002\n",
    "errcl1 = np.zeros((niter,))\n",
    "errcl_all = [] #np.zeros((niter*nepoch,))\n",
    "for iepoch in range(nepoch):\n",
    "    if iepoch > 0:\n",
    "        errcl1 = errcl\n",
    "        errcl_all += list(errcl)\n",
    "        if iepoch > 2:\n",
    "            eta /= 3.\n",
    "        else:\n",
    "            eta /= 2.5\n",
    "    errsq = np.zeros(niter)  # never computed\n",
    "    errcl = np.zeros(niter)\n",
    "    #shuffled_indices = np.random.permutation(np.arange(train.shape[0]))\n",
    "    #train = train[shuffled_indices]\n",
    "    #trainlabels = trainlabels[shuffled_indices]\n",
    "    for iter in xrange(niter):\n",
    "        # zero pad 28x28 image to make it 32x32\n",
    "        x0 = np.zeros((32,32))\n",
    "        \n",
    "        x0[np.ix_(range(2,30),range(2,30))] = train[iter] #iter\n",
    "\n",
    "        for i in range(n1):\n",
    "            x1[i,:,:] = conv2(x0, w1[i,:,:], \"valid\")\n",
    "        x1 = f(x1)\n",
    "        x1p, x1w = maxpool(x1)\n",
    "\n",
    "        x2 = np.zeros(x2.shape)  # initialize to zero for accumulation\n",
    "        for i in range(n2):\n",
    "            for j in range(n1):\n",
    "                x2[i,:,:] += conv2(x1p[j,:,:], w2[i,j,:,:], \"valid\")\n",
    "        x2 = f(x2)\n",
    "        x2p, x2w = maxpool(x2)\n",
    "\n",
    "        # discard 2D organization of x2p by reshaping to x2p(:)\n",
    "        x3 = f(np.dot(W3,np.reshape(x2p,-1)))\n",
    "        x4 = f(np.dot(W4,x3))\n",
    "        x5 = softmax(np.dot(W5,x4))\n",
    "        prediction = np.argmax(x5);\n",
    "        errcl[iter] = prediction != trainlabels[iter];\n",
    "        \n",
    "        # backward pass\n",
    "        d = -1*np.ones(n5)\n",
    "        d[trainlabels[iter]] = 1;  # target output vector\n",
    "        err = d - x5;\n",
    "        \n",
    "        #delta5 = np.multiply(err,df(x5))\n",
    "        delta5 = x5.copy()\n",
    "        delta5[trainlabels[iter]] -= 1.\n",
    "        delta5 *= -1.\n",
    "        \n",
    "        dB = np.dot(B_fc,delta5) # DFA\n",
    "        \n",
    "        delta4 = np.multiply(dB, df(x4)) #np.multiply(np.dot(W5.T,delta5),df(x4))\n",
    "        #delta4 = np.multiply(np.dot(W5.T,delta5),df(x4))\n",
    "        delta3 = np.multiply(dB, df(x3)) #np.multiply(np.dot(W4.T,delta4),df(x3))\n",
    "        #delta3 = np.multiply(np.dot(W4.T,delta4),df(x3))\n",
    "        \n",
    "        \n",
    "        delta2p = np.dot(B_c, delta3)#dB #for DFA #np.dot(W3.T, delta3)\n",
    "        #delta2p = np.dot(W3.T, delta3)\n",
    "        delta2p = np.reshape(delta2p, x2p.shape)  # restore 2D organization\n",
    "        delta2 = np.multiply(maxpoolback(delta2p, x2w),df(x2))\n",
    "        delta1p = np.zeros(x1p.shape)\n",
    "        #---------- DFA limit\n",
    "        \n",
    "        for j in range(n1):\n",
    "            for i in range(n2):                        # w2 instead of B2; more like FA here\n",
    "                delta1p[j,:,:] += conv2(delta2[i,:,:], B2[i,j][np.ix_(range(w2.shape[2]-1,-1,-1),range(w2.shape[3]-1,-1,-1))], \"full\")\n",
    "        delta1 = np.multiply(maxpoolback(delta1p, x1w),df(x1))\n",
    "\n",
    "        # weight updates\n",
    "        W5 += eta*np.dot(np.atleast_2d(delta5).T,np.atleast_2d(x4))\n",
    "        W4 += eta*np.dot(np.atleast_2d(delta4).T,np.atleast_2d(x3))\n",
    "        W3 += eta*np.dot(np.atleast_2d(delta3).T,np.reshape(x2p,(1,x2p.size)))\n",
    "        \n",
    "        for i in range(n2):\n",
    "            for j in range(n1):\n",
    "                w2[i,j,:,:] += eta*conv2(x1p[j][np.ix_(range(x1p.shape[1]-1,-1,-1),range(x1p.shape[2]-1,-1,-1))], delta2[i,:,:], \"valid\")\n",
    "        \n",
    "        for i in range(n1):\n",
    "            w1[i,:,:] += eta*conv2(x0[np.ix_(range(x0.shape[0]-1,-1,-1),range(x0.shape[1]-1,-1,-1))], delta1[i,:,:], \"valid\")\n",
    "        \n",
    "        if (iter+1) % disp_freq == 0:\n",
    "            plt.gcf().clear()\n",
    "            print 'error rate: ' + str(visualize(iter, errsq, errcl, x5, x4, x3, x0, w1))\n",
    "            print 'learning rate: ' + str(eta)\n",
    "            print str(time.time() - tic) + \" seconds per \" + str(disp_freq) + \" iterations\"\n",
    "            print 'Epoch ' + str(iepoch+1) + ' of ' + str(nepoch)\n",
    "            #print x5\n",
    "            #print prediction\n",
    "            #print trainlabels[iter]\n",
    "            times.append(time.time() - tic) # each entry is time per disp_freq iters\n",
    "            tic = time.time()\n",
    "            time.sleep(0.01)"
   ]
  },
  {
   "cell_type": "markdown",
   "metadata": {},
   "source": [
    "after 3rd epoch should anneal by more"
   ]
  },
  {
   "cell_type": "code",
   "execution_count": null,
   "metadata": {
    "collapsed": true
   },
   "outputs": [],
   "source": [
    "print errcl[-1]"
   ]
  },
  {
   "cell_type": "code",
   "execution_count": null,
   "metadata": {
    "collapsed": true
   },
   "outputs": [],
   "source": [
    "errcl_tot = np.vstack((errcl1.reshape(len(errcl1),1), errcl.reshape(len(errcl),1))).reshape(nepoch*len(errcl),)\n",
    "print errcl_tot.shape"
   ]
  },
  {
   "cell_type": "markdown",
   "metadata": {
    "collapsed": true
   },
   "source": [
    "The model is not fully trained, but observing above shows that the learning curve is decreasing. "
   ]
  },
  {
   "cell_type": "code",
   "execution_count": null,
   "metadata": {
    "collapsed": true
   },
   "outputs": [],
   "source": [
    "errcl_full = np.divide(\n",
    "        np.cumsum(errcl_tot[: len(errcl_tot) + 1]),\n",
    "        range(1, len(errcl_tot) + 1)\n",
    "        )\n",
    "print errcl_full.shape\n",
    "np.savetxt('LeNet_DFA_les2.csv', errcl_full, delimiter=',')"
   ]
  },
  {
   "cell_type": "code",
   "execution_count": 39,
   "metadata": {},
   "outputs": [
    {
     "name": "stdout",
     "output_type": "stream",
     "text": [
      "(120000,)\n"
     ]
    }
   ],
   "source": [
    "error_curve =  np.divide(\n",
    "        np.cumsum(errcl_all[: len(errcl_all) + 1]),\n",
    "        range(1, len(errcl_all) + 1)\n",
    "        )\n",
    "print error_curve.shape"
   ]
  },
  {
   "cell_type": "code",
   "execution_count": 40,
   "metadata": {},
   "outputs": [
    {
     "data": {
      "image/png": "[encoded data removed]",
      "text/plain": [
       "<matplotlib.figure.Figure at 0x1c275ac2d0>"
      ]
     },
     "metadata": {},
     "output_type": "display_data"
    }
   ],
   "source": [
    "LeNet = np.genfromtxt('LeNet.csv', delimiter=',')\n",
    "full_DFA = np.genfromtxt('LeNet_DFA.csv', delimiter=',')\n",
    "DFA_les2 = np.genfromtxt('LeNet_DFA_les2.csv', delimiter=',')\n",
    "DFA_les1 = np.genfromtxt('LeNet_DFA_les1.csv', delimiter=',')\n",
    "DFA_both = np.genfromtxt('LeNet_DFA_les_both.csv', delimiter=',')\n",
    "\n",
    "plt.rcParams['figure.figsize'] = (20.0, 10.0)\n",
    "#plt.rcParams['font.size'] = 20\n",
    "#plt.plot(LeNet, label='Standard BP')\n",
    "#plt.plot(full_DFA, label='DFA')\n",
    "#plt.plot(DFA_les1, label='DFA No Learning in L1 Kernels')\n",
    "#plt.plot(DFA_les2, label='DFA No Learning in L2 Kernels')\n",
    "plt.plot(error_curve)\n",
    "#plt.plot(DFA_both, label='DFA No Learning in L1&L2 Kernels')\n",
    "plt.xlabel('Iteration')\n",
    "plt.ylabel('Error Rate')\n",
    "plt.legend()\n",
    "plt.show()"
   ]
  },
  {
   "cell_type": "code",
   "execution_count": 89,
   "metadata": {},
   "outputs": [
    {
     "name": "stdout",
     "output_type": "stream",
     "text": [
      "89.2951975584\n"
     ]
    }
   ],
   "source": [
    "print np.sum(times) / 60. "
   ]
  },
  {
   "cell_type": "markdown",
   "metadata": {},
   "source": [
    "LeNet Standard: 6.411 min / epoch\n",
    "\n",
    "LeNet DFAL 5.990 min / epoch"
   ]
  },
  {
   "cell_type": "code",
   "execution_count": null,
   "metadata": {
    "collapsed": true
   },
   "outputs": [],
   "source": [
    ".5 / 6.4"
   ]
  },
  {
   "cell_type": "code",
   "execution_count": 18,
   "metadata": {},
   "outputs": [
    {
     "name": "stdout",
     "output_type": "stream",
     "text": [
      "1\n",
      "1\n"
     ]
    }
   ],
   "source": [
    "params = (w1, w2, W3, W4, W5)\n",
    "print predict(params, test[0])\n",
    "print testlabels[0]"
   ]
  },
  {
   "cell_type": "code",
   "execution_count": 85,
   "metadata": {
    "collapsed": true
   },
   "outputs": [],
   "source": [
    "# get preds\n",
    "preds = np.zeros((len(test),))\n",
    "params = (w1, w2, W3, W4, W5)\n",
    "for i in xrange(len(test)):\n",
    "    preds[i] = predict(params, test[i])"
   ]
  },
  {
   "cell_type": "code",
   "execution_count": 86,
   "metadata": {},
   "outputs": [
    {
     "name": "stdout",
     "output_type": "stream",
     "text": [
      "test accuracy: 97.64\n"
     ]
    }
   ],
   "source": [
    "print 'test accuracy: ' + str(get_acc(testlabels, preds)*100.)"
   ]
  },
  {
   "cell_type": "code",
   "execution_count": 87,
   "metadata": {
    "collapsed": true
   },
   "outputs": [],
   "source": [
    "tr_preds = np.zeros((len(train),))\n",
    "params = (w1, w2, W3, W4, W5)\n",
    "for i in xrange(len(train)):\n",
    "    tr_preds[i] = predict(params, train[i])"
   ]
  },
  {
   "cell_type": "code",
   "execution_count": 88,
   "metadata": {},
   "outputs": [
    {
     "name": "stdout",
     "output_type": "stream",
     "text": [
      "train accuracy: 98.1633333333\n"
     ]
    }
   ],
   "source": [
    "print 'train accuracy: ' + str(get_acc(trainlabels, tr_preds)*100.)"
   ]
  },
  {
   "cell_type": "code",
   "execution_count": null,
   "metadata": {
    "collapsed": true
   },
   "outputs": [],
   "source": []
  }
 ],
 "metadata": {
  "anaconda-cloud": {},
  "kernelspec": {
   "display_name": "Python 2",
   "language": "python",
   "name": "python2"
  },
  "language_info": {
   "codemirror_mode": {
    "name": "ipython",
    "version": 2
   },
   "file_extension": ".py",
   "mimetype": "text/x-python",
   "name": "python",
   "nbconvert_exporter": "python",
   "pygments_lexer": "ipython2",
   "version": "2.7.13"
  }
 },
 "nbformat": 4,
 "nbformat_minor": 2
}
