{
 "cells": [
  {
   "cell_type": "markdown",
   "metadata": {},
   "source": [
    "# FA 2-Layer Network\n",
    "\n",
    "**Ted Moskovitz, September 2017**\n",
    "\n",
    "Backprop implementation with feedback alignment (see Nokland 2016, Lilicrap 2014 in Papers folder). Trained on MNIST."
   ]
  },
  {
   "cell_type": "code",
   "execution_count": 8,
   "metadata": {},
   "outputs": [],
   "source": [
    "import numpy as np\n",
    "import matplotlib.pyplot as plt\n",
    "import scipy.misc as spm\n",
    "import cPickle, gzip\n",
    "\n",
    "%matplotlib inline\n",
    "plt.rcParams['image.cmap'] = 'gray'\n",
    "plt.rcParams['figure.figsize'] = (20.0, 10.0)\n",
    "plt.rcParams['font.size'] = 22"
   ]
  },
  {
   "cell_type": "code",
   "execution_count": 178,
   "metadata": {},
   "outputs": [],
   "source": [
    "# Load the dataset\n",
    "f = gzip.open('./Data/mnist.pkl.gz', 'rb')\n",
    "train_set, valid_set, test_set = cPickle.load(f)\n",
    "f.close()"
   ]
  },
  {
   "cell_type": "code",
   "execution_count": 179,
   "metadata": {},
   "outputs": [],
   "source": [
    "X_train, y_train = train_set\n",
    "X_val, y_val = valid_set\n",
    "X_test, y_test = test_set"
   ]
  },
  {
   "cell_type": "code",
   "execution_count": 180,
   "metadata": {},
   "outputs": [],
   "source": [
    "def convert_one_hot(labels, n_classes=10, th=False):\n",
    "    oh_labels = np.zeros((len(labels), n_classes))\n",
    "    if th:\n",
    "        oh_labels.fill(-1.)\n",
    "    for i in xrange(len(labels)):\n",
    "        oh_labels[i,:][labels[i]] = 1.\n",
    "    return oh_labels                       "
   ]
  },
  {
   "cell_type": "code",
   "execution_count": 181,
   "metadata": {},
   "outputs": [],
   "source": [
    "y_train_oh = convert_one_hot(y_train)\n",
    "y_val_oh = convert_one_hot(y_val)\n",
    "y_test_oh = convert_one_hot(y_test)"
   ]
  },
  {
   "cell_type": "code",
   "execution_count": 182,
   "metadata": {},
   "outputs": [
    {
     "name": "stdout",
     "output_type": "stream",
     "text": [
      "(60000,)\n"
     ]
    }
   ],
   "source": [
    "# if no validation\n",
    "y_train = np.reshape(np.vstack((y_train.reshape(50000,1), y_val.reshape(10000,1))), (60000,))\n",
    "X_train = np.vstack((X_train, X_val))\n",
    "y_train_oh = convert_one_hot(y_train)\n",
    "print y_train.shape"
   ]
  },
  {
   "cell_type": "code",
   "execution_count": 183,
   "metadata": {
    "collapsed": true
   },
   "outputs": [],
   "source": [
    "num_train = X_train.shape[0]\n",
    "num_val = X_val.shape[0]\n",
    "num_test = X_test.shape[0]"
   ]
  },
  {
   "cell_type": "code",
   "execution_count": 185,
   "metadata": {},
   "outputs": [],
   "source": [
    "epsinit = .01\n",
    "eta = .005\n",
    "decay = .000001\n",
    "\n",
    "n0 = X_train.shape[1]\n",
    "n1 = 50\n",
    "n2 = 10\n",
    "\n",
    "\n",
    "W1 = epsinit * np.random.randn(n1, n0)\n",
    "b1 = epsinit * np.random.randn(n1, 1)\n",
    "\n",
    "W2 = epsinit * np.random.randn(n2, n1)\n",
    "b2 = epsinit * np.random.randn(n2, 1)\n",
    "\n",
    "B = epsinit * np.random.randn(n1, n2) # FA, constant random matrix shape of W2.T\n",
    "\n",
    "tmax = 2000000\n",
    "tshow = 50000\n",
    "loss = np.zeros((tmax,))\n",
    "avgloss = np.zeros((tmax/tshow,))\n",
    "\n",
    "mvalidate = len(y_val)\n",
    "val_loss = np.zeros((tmax/tshow,))\n",
    "errcl = np.zeros((tmax,))\n",
    "avgerrcl = np.zeros((tmax/tshow,))"
   ]
  },
  {
   "cell_type": "code",
   "execution_count": 186,
   "metadata": {
    "collapsed": true
   },
   "outputs": [],
   "source": [
    "def get_minibatch(inp, targ, size):\n",
    "    i = int(np.random.rand() * (len(targ) - size)) \n",
    "    return inp[i:i+size,:].T, targ[i:i+size]"
   ]
  },
  {
   "cell_type": "code",
   "execution_count": 187,
   "metadata": {
    "collapsed": true
   },
   "outputs": [],
   "source": [
    "def f(x):\n",
    "    return 1. / (1. + np.exp(-x))\n",
    "def df(y):\n",
    "    return np.multiply(y, 1.-y)"
   ]
  },
  {
   "cell_type": "code",
   "execution_count": 188,
   "metadata": {
    "collapsed": true
   },
   "outputs": [],
   "source": [
    "def tanh(a):              # tanh activation function \n",
    "    return np.tanh(a) \n",
    "def dtanh(b):             # derivative of tanh\n",
    "    return 1 - (b**2)"
   ]
  },
  {
   "cell_type": "code",
   "execution_count": 189,
   "metadata": {
    "collapsed": true
   },
   "outputs": [],
   "source": [
    "def soft(x):\n",
    "    return np.log(1. + np.exp(x))\n",
    "def dsoft(x): # unlike other deriv fns here, is wrt preactivation (u) not activation (x) \n",
    "    return f(x)"
   ]
  },
  {
   "cell_type": "code",
   "execution_count": 190,
   "metadata": {
    "collapsed": true
   },
   "outputs": [],
   "source": [
    "def spec_soft(x):\n",
    "    a = 10.\n",
    "    return (1./a)*np.log(1.+np.exp(a*x))\n",
    "def dspec_soft(x):\n",
    "    a = 10.\n",
    "    return f(a*x)"
   ]
  },
  {
   "cell_type": "code",
   "execution_count": 191,
   "metadata": {
    "collapsed": true
   },
   "outputs": [],
   "source": [
    "def sq_loss(y, yhat, n):\n",
    "    return sum(sum(np.power((y-yhat), 2))) / n"
   ]
  },
  {
   "cell_type": "code",
   "execution_count": 192,
   "metadata": {
    "collapsed": true
   },
   "outputs": [],
   "source": [
    "def poiss_loss(y, yhat, n):\n",
    "    return np.mean(yhat - y * np.log(yhat + 1e-7) + np.log(spm.factorial(y)), axis=-1)"
   ]
  },
  {
   "cell_type": "code",
   "execution_count": 193,
   "metadata": {
    "collapsed": true
   },
   "outputs": [],
   "source": [
    "def neglogli(preds, actual):\n",
    "    preds = np.reshape(preds, (-1,))\n",
    "    nll = np.sum((preds - actual*np.log(preds + 1e-07) + np.log(spm.factorial(actual))))\n",
    "    return nll"
   ]
  },
  {
   "cell_type": "code",
   "execution_count": 194,
   "metadata": {
    "collapsed": true
   },
   "outputs": [],
   "source": [
    "def predict(x0, wts, bs):\n",
    "    W1, W2 = wts\n",
    "    b1, b2 = bs\n",
    "    \n",
    "    sz = x0.shape[1]\n",
    "    B1 = np.repeat(b1, sz).reshape([n1, sz])\n",
    "    B2 = np.repeat(b2, sz).reshape([n2, sz])\n",
    "    \n",
    "    h = f(np.dot(W1,x0) + B1)\n",
    "    preds = f(np.dot(W2,h) + B2)\n",
    "    \n",
    "    return preds"
   ]
  },
  {
   "cell_type": "code",
   "execution_count": 195,
   "metadata": {
    "scrolled": true
   },
   "outputs": [
    {
     "name": "stdout",
     "output_type": "stream",
     "text": [
      "Epoch 1 of 39:\n",
      "Avg. Train Loss: 0.700808162314\n",
      "Avg. Class Error: 0.378795\n",
      " \n",
      "Epoch 2 of 39:\n",
      "Avg. Train Loss: 0.558306452098\n",
      "Avg. Class Error: 0.275686875\n",
      " \n",
      "Epoch 3 of 39:\n",
      "Avg. Train Loss: 0.483734596956\n",
      "Avg. Class Error: 0.232575416667\n",
      " \n",
      "Epoch 4 of 39:\n",
      "Avg. Train Loss: 0.436811999419\n",
      "Avg. Class Error: 0.2079459375\n",
      " \n",
      "Epoch 5 of 39:\n",
      "Avg. Train Loss: 0.403892164204\n",
      "Avg. Class Error: 0.19165\n",
      " \n",
      "Epoch 6 of 39:\n",
      "Avg. Train Loss: 0.379517201734\n",
      "Avg. Class Error: 0.180115\n",
      " \n",
      "Epoch 7 of 39:\n",
      "Avg. Train Loss: 0.36057784899\n",
      "Avg. Class Error: 0.171340178571\n",
      " \n",
      "Epoch 8 of 39:\n",
      "Avg. Train Loss: 0.345376570696\n",
      "Avg. Class Error: 0.164490625\n",
      " \n",
      "Epoch 9 of 39:\n",
      "Avg. Train Loss: 0.332824539458\n",
      "Avg. Class Error: 0.158914444444\n",
      " \n",
      "Epoch 10 of 39:\n",
      "Avg. Train Loss: 0.322297242533\n",
      "Avg. Class Error: 0.154256\n",
      " \n",
      "Epoch 11 of 39:\n",
      "Avg. Train Loss: 0.313349800998\n",
      "Avg. Class Error: 0.150390454545\n",
      " \n",
      "Epoch 12 of 39:\n",
      "Avg. Train Loss: 0.305596417778\n",
      "Avg. Class Error: 0.147051041667\n",
      " \n",
      "Epoch 13 of 39:\n",
      "Avg. Train Loss: 0.298806668027\n",
      "Avg. Class Error: 0.144103942308\n",
      " \n",
      "Epoch 14 of 39:\n",
      "Avg. Train Loss: 0.292820661727\n",
      "Avg. Class Error: 0.141511785714\n",
      " \n",
      "Epoch 15 of 39:\n",
      "Avg. Train Loss: 0.287487547764\n",
      "Avg. Class Error: 0.139238916667\n",
      " \n",
      "Epoch 16 of 39:\n",
      "Avg. Train Loss: 0.282681324477\n",
      "Avg. Class Error: 0.137158125\n",
      " \n",
      "Epoch 17 of 39:\n",
      "Avg. Train Loss: 0.278361220062\n",
      "Avg. Class Error: 0.135272647059\n",
      " \n",
      "Epoch 18 of 39:\n",
      "Avg. Train Loss: 0.274456734738\n",
      "Avg. Class Error: 0.133590208333\n",
      " \n",
      "Epoch 19 of 39:\n",
      "Avg. Train Loss: 0.270882700261\n",
      "Avg. Class Error: 0.132048881579\n",
      " \n",
      "Epoch 20 of 39:\n",
      "Avg. Train Loss: 0.267596290875\n",
      "Avg. Class Error: 0.130628125\n",
      " \n",
      "Epoch 21 of 39:\n",
      "Avg. Train Loss: 0.264584541775\n",
      "Avg. Class Error: 0.129323095238\n",
      " \n",
      "Epoch 22 of 39:\n",
      "Avg. Train Loss: 0.261818930388\n",
      "Avg. Class Error: 0.128132897727\n",
      " \n",
      "Epoch 23 of 39:\n",
      "Avg. Train Loss: 0.259233047675\n",
      "Avg. Class Error: 0.127018478261\n",
      " \n",
      "Epoch 24 of 39:\n",
      "Avg. Train Loss: 0.25685487821\n",
      "Avg. Class Error: 0.1259978125\n",
      " \n",
      "Epoch 25 of 39:\n",
      "Avg. Train Loss: 0.254610272417\n",
      "Avg. Class Error: 0.12502975\n",
      " \n",
      "Epoch 26 of 39:\n",
      "Avg. Train Loss: 0.252540722188\n",
      "Avg. Class Error: 0.124141153846\n",
      " \n",
      "Epoch 27 of 39:\n",
      "Avg. Train Loss: 0.250568626241\n",
      "Avg. Class Error: 0.123291944444\n",
      " \n",
      "Epoch 28 of 39:\n",
      "Avg. Train Loss: 0.248706918365\n",
      "Avg. Class Error: 0.1224603125\n",
      " \n",
      "Epoch 29 of 39:\n",
      "Avg. Train Loss: 0.246981557228\n",
      "Avg. Class Error: 0.121714137931\n",
      " \n",
      "Epoch 30 of 39:\n",
      "Avg. Train Loss: 0.24534686595\n",
      "Avg. Class Error: 0.120998708333\n",
      " \n",
      "Epoch 31 of 39:\n",
      "Avg. Train Loss: 0.243792900874\n",
      "Avg. Class Error: 0.120319879032\n",
      " \n",
      "Epoch 32 of 39:\n",
      "Avg. Train Loss: 0.242320789613\n",
      "Avg. Class Error: 0.119670546875\n",
      " \n",
      "Epoch 33 of 39:\n",
      "Avg. Train Loss: 0.240942967719\n",
      "Avg. Class Error: 0.11907\n",
      " \n",
      "Epoch 34 of 39:\n",
      "Avg. Train Loss: 0.239636498473\n",
      "Avg. Class Error: 0.118505441176\n",
      " \n",
      "Epoch 35 of 39:\n",
      "Avg. Train Loss: 0.238367889772\n",
      "Avg. Class Error: 0.117942821429\n",
      " \n",
      "Epoch 36 of 39:\n",
      "Avg. Train Loss: 0.237175363013\n",
      "Avg. Class Error: 0.117413576389\n",
      " \n",
      "Epoch 37 of 39:\n",
      "Avg. Train Loss: 0.236031739805\n",
      "Avg. Class Error: 0.116915608108\n",
      " \n",
      "Epoch 38 of 39:\n",
      "Avg. Train Loss: 0.234963647086\n",
      "Avg. Class Error: 0.116440822368\n",
      " \n",
      "Epoch 39 of 39:\n",
      "Avg. Train Loss: 0.23391446279\n",
      "Avg. Class Error: 0.115973076923\n",
      " \n"
     ]
    }
   ],
   "source": [
    "bsize = 16\n",
    "predicted = np.zeros((tmax/tshow,bsize))\n",
    "ys = np.zeros((tmax/tshow, bsize))\n",
    "for t in xrange(tmax):\n",
    "    x0, y = get_minibatch(X_train, y_train_oh, bsize)\n",
    "    y = y.T\n",
    "    \n",
    "    B1 = np.repeat(b1, bsize).reshape([n1, bsize])\n",
    "    B2 = np.repeat(b2, bsize).reshape([n2, bsize])\n",
    "    \n",
    "    # forward pass\n",
    "    x1 = f(np.dot(W1,x0)+B1)\n",
    "    u2 = np.dot(W2,x1)+B2\n",
    "    x2 = f(u2)\n",
    "\n",
    "    #loss[t] = sq_loss(y, x2, bsize)\n",
    "    loss[t] = sq_loss(y, x2, bsize)\n",
    "    \n",
    "    errcl[t] = float(np.sum(np.argmax(x2,axis=0) != np.argmax(y,axis=0)))/bsize\n",
    "    \n",
    "    # backward pass\n",
    "    #delta2 = (y - x2) * df(x2)\n",
    "    delta2 = -np.multiply((1. - np.divide(y, x2+1e-7)), df(x2))\n",
    "    \n",
    "    delta1 = np.multiply(np.dot(B, delta2), df(x1)) # FA\n",
    "    '''\n",
    "    if (float(t)/tmax) == .75:\n",
    "        print 'Learning Rate Annealed'\n",
    "        eta /= 5.\n",
    "    '''\n",
    "    W2 += eta / bsize * np.dot(delta2, x1.T)\n",
    "    W1 += eta / bsize * np.dot(delta1, x0.T)\n",
    "    b2 += eta / bsize * np.sum(delta2, axis=1).reshape(n2, 1)\n",
    "    b1 += eta / bsize * np.sum(delta1, axis=1).reshape(n1, 1)\n",
    "    \n",
    "    eta *= (1.-decay) \n",
    "    \n",
    "    if t % tshow == 0 and t > 0:\n",
    "        print 'Epoch ' + str(t/tshow) + ' of ' + str(tmax/tshow-1) + ':'\n",
    "    \n",
    "        avgloss[t/tshow-1] = np.sum(loss[:t]) / float(t+1)\n",
    "        avgerrcl[t/tshow-1] = np.sum(errcl[:t]) / float(t)\n",
    "        #predicted[t/tshow-1,:] = x2\n",
    "        #ys[t/tshow-1,:] = y\n",
    "        print \"Avg. Train Loss: \" + str(avgloss[t/tshow-1])\n",
    "        print 'Avg. Class Error: ' + str(avgerrcl[t/tshow-1])\n",
    "        \n",
    "        '''\n",
    "        # validation loss\n",
    "        x0 = X_val.T\n",
    "        \n",
    "        B1 = np.repeat(b1, mvalidate).reshape([n1, mvalidate])\n",
    "        B2 = np.repeat(b2, mvalidate).reshape([n2, mvalidate])\n",
    "        x1 = f(np.dot(W1,x0)+B1)\n",
    "        x2 = f(np.dot(W2,x1)+B2)\n",
    "        \n",
    "        #val_loss[t/tshow-1] = sq_loss(y_val.T, x2, mvalidate)\n",
    "        val_loss[t/tshow-1] = sq_loss(y_val_oh.T, x2, mvalidate)\n",
    "        \n",
    "        print \"Validation Loss: \" + str(val_loss[t/tshow-1])\n",
    "        '''\n",
    "        print ' '\n",
    "        \n",
    "        "
   ]
  },
  {
   "cell_type": "code",
   "execution_count": null,
   "metadata": {},
   "outputs": [],
   "source": [
    "w1 = np.mean(W1, axis=0)\n",
    "print w1.shape\n",
    "plt.plot(w1)\n",
    "plt.show()"
   ]
  },
  {
   "cell_type": "code",
   "execution_count": null,
   "metadata": {},
   "outputs": [],
   "source": [
    "for i in xrange(n1):\n",
    "    plt.plot(W1[i,:])\n",
    "    plt.show()"
   ]
  },
  {
   "cell_type": "code",
   "execution_count": null,
   "metadata": {},
   "outputs": [],
   "source": [
    "plt.plot(ys[0,:], label='target')\n",
    "plt.plot(predicted[0,:], label='prediction')\n",
    "plt.legend()\n",
    "plt.xlabel('Bins')\n",
    "plt.ylabel('Spikes')\n",
    "plt.title('Initial')\n",
    "plt.show()"
   ]
  },
  {
   "cell_type": "code",
   "execution_count": null,
   "metadata": {},
   "outputs": [],
   "source": [
    "plt.plot(ys[-2,:], label='target')\n",
    "plt.plot(predicted[-2,:], label='prediction')\n",
    "plt.legend()\n",
    "plt.xlabel('Bins')\n",
    "plt.ylabel('Spikes')\n",
    "plt.title('Final')\n",
    "plt.show()"
   ]
  },
  {
   "cell_type": "code",
   "execution_count": 196,
   "metadata": {},
   "outputs": [
    {
     "data": {
      "image/png": "[encoded data removed]",
      "text/plain": [
       "<matplotlib.figure.Figure at 0x10c3c45d0>"
      ]
     },
     "metadata": {},
     "output_type": "display_data"
    },
    {
     "data": {
      "image/png": "[encoded data removed]",
      "text/plain": [
       "<matplotlib.figure.Figure at 0x10a20ed10>"
      ]
     },
     "metadata": {},
     "output_type": "display_data"
    }
   ],
   "source": [
    "plt.plot(avgloss[:-1], label='train loss')\n",
    "#plt.plot(val_loss[:-1], label='validation loss')\n",
    "plt.legend()\n",
    "plt.show()\n",
    "\n",
    "plt.plot(avgerrcl[:-1], label='Class Error')\n",
    "np.savetxt('./Results/MLP_FA_784_50_10_classerr.csv', avgerrcl[:-1], delimiter=',')\n",
    "plt.legend()\n",
    "plt.show()"
   ]
  },
  {
   "cell_type": "code",
   "execution_count": null,
   "metadata": {},
   "outputs": [],
   "source": [
    "print W1.shape\n",
    "print W2.shape\n",
    "print b1.shape\n",
    "print b2.shape"
   ]
  },
  {
   "cell_type": "code",
   "execution_count": 128,
   "metadata": {},
   "outputs": [
    {
     "name": "stdout",
     "output_type": "stream",
     "text": [
      "(10, 10000)\n",
      "0.167132507017\n",
      "0.0859\n"
     ]
    }
   ],
   "source": [
    "wts = (W1, W2)\n",
    "bs = (b1, b2)\n",
    "preds = predict(X_test.T, wts, bs)\n",
    "print preds.shape\n",
    "\n",
    "print sq_loss(y_test_oh.T, preds, num_test)\n",
    "\n",
    "print float(np.sum(np.argmax(preds,axis=0) != np.argmax(y_test_oh.T, axis=0))) / num_test"
   ]
  },
  {
   "cell_type": "code",
   "execution_count": null,
   "metadata": {},
   "outputs": [],
   "source": [
    "r = int(np.random.rand() * len(y_test)) \n",
    "if r > 1000:\n",
    "    r = r - 20\n",
    "plt.plot(y_test[r:r+20], label='target')\n",
    "plt.plot(predict(X_test[r:r+20,:].T, wts, bs).T, label='prediction')\n",
    "plt.legend()\n",
    "plt.xlabel('Bins')\n",
    "plt.ylabel('Spikes')\n",
    "plt.title('Test Points')\n",
    "plt.show()"
   ]
  },
  {
   "cell_type": "code",
   "execution_count": null,
   "metadata": {},
   "outputs": [],
   "source": [
    "B1 = np.repeat(b1, num_train).reshape([n1, num_train])\n",
    "B2 = np.repeat(b2, num_train).reshape([n2, num_train])\n",
    "filt_output0 = np.dot(W2, f(np.dot(W1, X_train.T) + B1)) + B2\n",
    "#filt_output0 = np.dot(W1, X_train.T) + B1\n",
    "print filt_output0.shape"
   ]
  },
  {
   "cell_type": "code",
   "execution_count": null,
   "metadata": {},
   "outputs": [],
   "source": [
    "h1, bin_edges = np.histogram(filt_output0[0,:], bins=20)\n",
    "plt.hist(filt_output0[0,:], bins=20)\n",
    "plt.show()"
   ]
  },
  {
   "cell_type": "code",
   "execution_count": null,
   "metadata": {},
   "outputs": [],
   "source": [
    "train_preds = predict(X_train.T, wts, bs)\n",
    "train_preds = train_preds.T\n",
    "print train_preds.shape"
   ]
  },
  {
   "cell_type": "code",
   "execution_count": null,
   "metadata": {
    "collapsed": true
   },
   "outputs": [],
   "source": []
  }
 ],
 "metadata": {
  "kernelspec": {
   "display_name": "Python 2",
   "language": "python",
   "name": "python2"
  },
  "language_info": {
   "codemirror_mode": {
    "name": "ipython",
    "version": 2
   },
   "file_extension": ".py",
   "mimetype": "text/x-python",
   "name": "python",
   "nbconvert_exporter": "python",
   "pygments_lexer": "ipython2",
   "version": "2.7.13"
  }
 },
 "nbformat": 4,
 "nbformat_minor": 1
}
